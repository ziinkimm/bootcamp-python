{
 "cells": [
  {
   "cell_type": "code",
   "execution_count": null,
   "id": "aab67a9e",
   "metadata": {},
   "outputs": [],
   "source": [
    "#동적페이지 크롤링하는 방법?\n",
    "!pip install selenium"
   ]
  },
  {
   "cell_type": "code",
   "execution_count": null,
   "id": "3590a8b3",
   "metadata": {},
   "outputs": [],
   "source": [
    "import os\n",
    "os.getcwd()"
   ]
  },
  {
   "cell_type": "code",
   "execution_count": null,
   "id": "85945586",
   "metadata": {},
   "outputs": [],
   "source": [
    "from selenium import webdriver\n",
    "from selenium.webdriver.common.by import By #selenium4의 명령문 구성내용임.\n",
    "from bs4 import BeautifulSoup as bs\n",
    "\n",
    "import time\n",
    "\n",
    "browser=webdriver.Chrome() #크롬드라이버의 실행파일을 가르킴.\n",
    "browser.get(\"https://www.naver.com\")"
   ]
  },
  {
   "cell_type": "code",
   "execution_count": null,
   "id": "e19517cf",
   "metadata": {},
   "outputs": [],
   "source": [
    "elem=browser.find_element(By.CLASS_NAME,\"btn_login\")\n",
    "elem.click()"
   ]
  },
  {
   "cell_type": "code",
   "execution_count": null,
   "id": "af77837a",
   "metadata": {},
   "outputs": [],
   "source": [
    "browser.find_element(By.ID,\"id\").send_keys(\"jywluj\")"
   ]
  },
  {
   "cell_type": "code",
   "execution_count": null,
   "id": "ebb59887",
   "metadata": {},
   "outputs": [],
   "source": [
    "browser.find_element(By.ID,\"pw\").send_keys(\"123456\")"
   ]
  },
  {
   "cell_type": "code",
   "execution_count": null,
   "id": "4e2ddc99",
   "metadata": {},
   "outputs": [],
   "source": [
    "browser.find_element(By.ID,\"log.login\").click()"
   ]
  },
  {
   "cell_type": "code",
   "execution_count": null,
   "id": "58bb3fb8",
   "metadata": {},
   "outputs": [],
   "source": [
    "reg=browser.page_source\n",
    "print(reg)"
   ]
  },
  {
   "cell_type": "code",
   "execution_count": null,
   "id": "abc04f2f",
   "metadata": {},
   "outputs": [],
   "source": [
    "soup=bs(reg,\"html.parser\")\n",
    "print(soup)"
   ]
  },
  {
   "cell_type": "code",
   "execution_count": null,
   "id": "bec7962e",
   "metadata": {},
   "outputs": [],
   "source": [
    "browser.close() #현재페이지를 클로징\n"
   ]
  },
  {
   "cell_type": "code",
   "execution_count": null,
   "id": "194e5041",
   "metadata": {},
   "outputs": [],
   "source": [
    "browser.quit() #전체페이지를 클로징"
   ]
  },
  {
   "cell_type": "code",
   "execution_count": null,
   "id": "f5cb62ef",
   "metadata": {},
   "outputs": [],
   "source": [
    "#셀레니움4의 정의된 동작명령.\n",
    "##1.find_elemnet_by_id('id명')==>find_element(By.ID,\"id명\")\n",
    "##2.find_elemnet_by_xpath(\"경로\")==>find_element(By.XPATH,\"경로\")\n",
    "##3.find_element_by_name('이름')==>find_element(By.NAME,'이름')\n",
    "##4.find_element_by_tag_name(\"tag이름\")==>find_element(By.TAG_NAME,'태그이름')\n",
    "##5.find_element_by_class_name('클래스이름')==>find_element(By.CLASS_NAME,\"클래스이름\")\n",
    "##6.find_element_by_link_text('링크문자')==>find_element(By.LINK_TEXT,'링크문자')\n",
    "##7.find_element_by_css_selector(\"css선택자\")==>find_element(By.CSS_SELECTOR,'css선택자')\n"
   ]
  },
  {
   "cell_type": "code",
   "execution_count": null,
   "id": "a864bc10",
   "metadata": {
    "scrolled": true
   },
   "outputs": [],
   "source": [
    "#네이버의 동적페이지인 웹툰의 페이지를 크롤링하여 이를  판다스를 적용해서 csv파일화?\n",
    "import pandas as pd\n",
    "from selenium import webdriver\n",
    "from bs4 import BeautifulSoup as bs\n",
    "import time\n",
    "\n",
    "chrome_options=webdriver.ChromeOptions()\n",
    "#크롬브라우저를 제어하기 위한 웹드라이버설정을 저장하는 객체\n",
    "chrome_options.add_argument('--headless')\n",
    "#크롬브라우저를 GUI없이 실행하여 작업을 처리케 하는 옵션임.\n",
    "driver=webdriver.Chrome(options=chrome_options)\n",
    "\n",
    "url=\"https://comic.naver.com/webtoon\"\n",
    "driver.get(url)\n",
    "time.sleep(3)\n",
    "\n",
    "html=driver.page_source\n",
    "soup=bs(html,'html.parser')\n",
    "# print(soup)\n",
    "divs=soup.findAll(\"div\",{\"class\":\"WeekdayMainView__daily_all_wrap--UvRFc\"})\n",
    "\n",
    "rlt=[]\n",
    "\n",
    "for i in range(len(divs)):\n",
    "    uls=divs[i].findAll(\"ul\",{\"class\":\"WeekdayMainView__daily_list--R52q0\"})\n",
    "    \n",
    "    for ul in uls:\n",
    "        lis=ul.findAll(\"li\",{\"class\":\"DailyListItem__item--LP6_T\"})\n",
    "        for li in lis:\n",
    "            atag=li.find(\"a\",{\"class\":\"ContentTitle__title_area--x24vt\"})\n",
    "            span=li.find(\"span\",{\"class\",\"ContentTitle__title--e3qXt\"})\n",
    "            title=span.get_text()\n",
    "            link=\"https://comic.naver.com\"+atag.get('href')\n",
    "            rlt.append([title,link])\n",
    "            print(title)\n",
    "            print(link)\n",
    "            print()\n",
    "df=pd.DataFrame(rlt,columns=['Title','Link'])\n",
    "df.to_csv(\"webtoon_list.csv\",index=False,encoding='utf-8-sig')\n",
    "\n",
    "driver.quit()"
   ]
  },
  {
   "cell_type": "code",
   "execution_count": null,
   "id": "f0b22c7d",
   "metadata": {
    "scrolled": false
   },
   "outputs": [],
   "source": [
    "#네이버의 블로그 검색창을 통한 셀레니움기법으로 크롤링 진행?\n",
    "from selenium import webdriver\n",
    "import time\n",
    "\n",
    "import csv\n",
    "from bs4 import BeautifulSoup as bs\n",
    "driver=webdriver.Chrome()\n",
    "\n",
    "url_base=\"https://section.blog.naver.com/Search/Post.naver?pageNo=1&rangeType=ALL&orderBy=sim&keyword=\"\n",
    "sch=input(\"검색어를 입력하세요?\")\n",
    "url=url_base+str(sch)\n",
    "# headers={\"User-Agent\":\"Mozilla/5.0 (Windows NT 10.0; Win64; x64) AppleWebKit/537.36 (KHTML, like Gecko) Chrome/113.0.0.0 Safari/537.36\"}\n",
    "\n",
    "driver.get(url)\n",
    "time.sleep(3)\n",
    "html=driver.page_source\n",
    "soup=bs(html,\"html.parser\")\n",
    "# print(soup)\n",
    "items=soup.select(\"a.desc_inner\")\n",
    "list=[]\n",
    "index=1\n",
    "for item in items:\n",
    "    temp=[]\n",
    "    title=item.text.strip()\n",
    "    addr=item.get('href')\n",
    "    temp.append(title)\n",
    "    temp.append(addr)\n",
    "    list.append(temp)\n",
    "    print(index,title,addr)\n",
    "    print()\n",
    "    index +=1\n",
    "\n",
    "\n",
    "print(\"Crawling완료\")\n",
    "f=open(sch+\".csv\",\"w\",encoding='utf-8-sig',newline='')\n",
    "csvwriter=csv.writer(f)\n",
    "header=[\"Title\",\"Link\"]\n",
    "csvwriter.writerow(header)\n",
    "\n",
    "for i in list:\n",
    "    csvwriter.writerow(i)\n",
    "f.close()\n",
    "print(\"완료되었습니다.\")\n",
    "    "
   ]
  },
  {
   "cell_type": "code",
   "execution_count": null,
   "id": "c4de4a4a",
   "metadata": {
    "scrolled": false
   },
   "outputs": [],
   "source": [
    "#해커스영어회화 기초/매일영어회화를 크롤링?\n",
    "import requests as req\n",
    "from bs4 import BeautifulSoup as bs\n",
    "import re\n",
    "\n",
    "url=\"https://www.hackers.co.kr/?c=s_eng/eng_contents/I_others_english&keywd=haceng_submain_lnb_eng_I_others_english&logger_kw=haceng_submain_lnb_eng_I_others_english\"\n",
    "res=req.get(url)\n",
    "soup=bs(res.text,'html')\n",
    "sentences=soup.findAll(\"div\",{\"id\":re.compile(\"^conv_kor_t\")})\n",
    "# print(sentences)\n",
    "print(\"영어지문\")\n",
    "for sentence in sentences[len(sentences)//2:]:#8문장이 있다고 가정할때 뒤의4~7까지의 문장\n",
    "    print(sentence.text.strip())\n",
    "#     print()\n",
    "\n",
    "print()\n",
    "print(\"한글지문\")\n",
    "for sentence in sentences[:len(sentences)//2]:\n",
    "    print(sentence.text.strip())\n",
    "#     print()\n",
    "        "
   ]
  },
  {
   "cell_type": "code",
   "execution_count": null,
   "id": "de7fbbd9",
   "metadata": {},
   "outputs": [],
   "source": []
  }
 ],
 "metadata": {
  "kernelspec": {
   "display_name": "Python 3 (ipykernel)",
   "language": "python",
   "name": "python3"
  },
  "language_info": {
   "codemirror_mode": {
    "name": "ipython",
    "version": 3
   },
   "file_extension": ".py",
   "mimetype": "text/x-python",
   "name": "python",
   "nbconvert_exporter": "python",
   "pygments_lexer": "ipython3",
   "version": "3.10.9"
  }
 },
 "nbformat": 4,
 "nbformat_minor": 5
}
